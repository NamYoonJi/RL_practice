{
  "cells": [
    {
      "cell_type": "markdown",
      "id": "f7444f30-0883-4a87-8e00-c5e5591a2a26",
      "metadata": {
        "id": "f7444f30-0883-4a87-8e00-c5e5591a2a26"
      },
      "source": [
        "## Import"
      ]
    },
    {
      "cell_type": "code",
      "execution_count": null,
      "id": "b85832b1-9f31-41e4-b934-cc260e5b3b1d",
      "metadata": {
        "id": "b85832b1-9f31-41e4-b934-cc260e5b3b1d",
        "outputId": "d4d962eb-406d-4929-a7d1-f49ed07cb0b3"
      },
      "outputs": [
        {
          "name": "stderr",
          "output_type": "stream",
          "text": [
            "/usr/local/lib/python3.8/dist-packages/pandas/core/computation/expressions.py:20: UserWarning: Pandas requires version '2.7.3' or newer of 'numexpr' (version '2.7.0' currently installed).\n",
            "  from pandas.core.computation.check import NUMEXPR_INSTALLED\n"
          ]
        }
      ],
      "source": [
        "import random\n",
        "import os\n",
        "import pandas as pd\n",
        "import numpy as np\n",
        "from tqdm.auto import tqdm\n",
        "from sklearn.preprocessing import LabelEncoder\n",
        "\n",
        "import torch\n",
        "import torch.nn as nn\n",
        "import torch.optim as optim\n",
        "import torch.nn.functional as F\n",
        "from torch.utils.data import Dataset, DataLoader"
      ]
    },
    {
      "cell_type": "code",
      "execution_count": null,
      "id": "b0259cfd-b37c-4716-aacf-c91d77e41480",
      "metadata": {
        "id": "b0259cfd-b37c-4716-aacf-c91d77e41480"
      },
      "outputs": [],
      "source": [
        "device = torch.device('cuda') if torch.cuda.is_available() else torch.device('cpu')"
      ]
    },
    {
      "cell_type": "markdown",
      "id": "07c2d47b-e9da-47e5-9155-cce997e63481",
      "metadata": {
        "id": "07c2d47b-e9da-47e5-9155-cce997e63481"
      },
      "source": [
        "## Hyperparameter Setting"
      ]
    },
    {
      "cell_type": "code",
      "execution_count": null,
      "id": "c9f50013-6513-44fd-8e48-06dd12ec3f63",
      "metadata": {
        "id": "c9f50013-6513-44fd-8e48-06dd12ec3f63"
      },
      "outputs": [],
      "source": [
        "CFG = {\n",
        "    'TRAIN_WINDOW_SIZE':180, # 90일치로 학습\n",
        "    'PREDICT_SIZE':21, # 21일치 예측\n",
        "    'EPOCHS':20,\n",
        "    'LEARNING_RATE':1e-4,\n",
        "    'BATCH_SIZE':4096,\n",
        "    'SEED':41\n",
        "}"
      ]
    },
    {
      "cell_type": "code",
      "execution_count": null,
      "id": "44cdbe67-eda2-42ef-bc35-0a2bfd99f211",
      "metadata": {
        "id": "44cdbe67-eda2-42ef-bc35-0a2bfd99f211"
      },
      "outputs": [],
      "source": [
        "def seed_everything(seed):\n",
        "    random.seed(seed)\n",
        "    os.environ['PYTHONHASHSEED'] = str(seed)\n",
        "    np.random.seed(seed)\n",
        "    torch.manual_seed(seed)\n",
        "    torch.cuda.manual_seed(seed)\n",
        "    torch.backends.cudnn.deterministic = True\n",
        "    torch.backends.cudnn.benchmark = True\n",
        "\n",
        "seed_everything(CFG['SEED']) # Seed 고정"
      ]
    },
    {
      "cell_type": "markdown",
      "id": "7d68c38e",
      "metadata": {
        "id": "7d68c38e"
      },
      "source": [
        "### 데이터 불러오기"
      ]
    },
    {
      "cell_type": "code",
      "execution_count": null,
      "id": "e3b89389",
      "metadata": {
        "id": "e3b89389"
      },
      "outputs": [],
      "source": [
        "train_data = pd.read_csv('./train.csv').drop(columns=['ID', '제품'])"
      ]
    },
    {
      "cell_type": "markdown",
      "id": "d21e80a6",
      "metadata": {
        "id": "d21e80a6"
      },
      "source": [
        "### 데이터 전처리"
      ]
    },
    {
      "cell_type": "code",
      "execution_count": null,
      "id": "9509bd54-9333-4ec7-b197-b70d3c1408ef",
      "metadata": {
        "colab": {
          "referenced_widgets": [
            "3762ef878daf468dab8a5383d7b8305e"
          ]
        },
        "id": "9509bd54-9333-4ec7-b197-b70d3c1408ef",
        "outputId": "dbba67e3-b38c-4d18-c580-f11d8677d896"
      },
      "outputs": [
        {
          "data": {
            "application/vnd.jupyter.widget-view+json": {
              "model_id": "3762ef878daf468dab8a5383d7b8305e",
              "version_major": 2,
              "version_minor": 0
            },
            "text/plain": [
              "  0%|          | 0/15890 [00:00<?, ?it/s]"
            ]
          },
          "metadata": {},
          "output_type": "display_data"
        }
      ],
      "source": [
        "# 숫자형 변수들의 min-max scaling을 수행하는 코드입니다.\n",
        "numeric_cols = train_data_origin.columns[4:]\n",
        "# 칵 column의 min 및 max 계산\n",
        "min_values = train_data_origin[numeric_cols].min(axis=1)\n",
        "max_values = train_data_origin[numeric_cols].max(axis=1)\n",
        "# 각 행의 범위(max-min)를 계산하고, 범위가 0인 경우 1로 대체\n",
        "ranges = max_values - min_values\n",
        "ranges[ranges == 0] = 1\n",
        "# min-max scaling 수행\n",
        "train_data_origin[numeric_cols] = (train_data_origin[numeric_cols].subtract(min_values, axis=0)).div(ranges, axis=0)\n",
        "# max와 min 값을 dictionary 형태로 저장\n",
        "scale_min_dict = min_values.to_dict()\n",
        "scale_max_dict = max_values.to_dict()\n",
        "    scale_min_dict[idx] = mini"
      ]
    },
    {
      "cell_type": "code",
      "execution_count": null,
      "id": "7c83c51b-f979-4930-9372-f03bdb33abc5",
      "metadata": {
        "id": "7c83c51b-f979-4930-9372-f03bdb33abc5"
      },
      "outputs": [],
      "source": [
        "# Label Encoding\n",
        "label_encoder = LabelEncoder()\n",
        "categorical_columns = ['대분류', '중분류', '소분류', '브랜드']\n",
        "\n",
        "for col in categorical_columns:\n",
        "    label_encoder.fit(train_data[col])\n",
        "    train_data[col] = label_encoder.transform(train_data[col])"
      ]
    },
    {
      "cell_type": "code",
      "execution_count": null,
      "id": "debff992-a1f4-4ade-b2e9-45b234e44412",
      "metadata": {
        "id": "debff992-a1f4-4ade-b2e9-45b234e44412"
      },
      "outputs": [],
      "source": [
        "def make_train_data(data, train_size=CFG['TRAIN_WINDOW_SIZE'], predict_size=CFG['PREDICT_SIZE']):\n",
        "    '''\n",
        "    학습 기간 블럭, 예측 기간 블럭의 세트로 데이터를 생성\n",
        "    data : 일별 판매량\n",
        "    train_size : 학습에 활용할 기간\n",
        "    predict_size : 추론할 기간\n",
        "    '''\n",
        "    num_rows = len(data)\n",
        "    window_size = train_size + predict_size\n",
        "\n",
        "    input_data = np.empty((num_rows * (len(data.columns) - window_size + 1), train_size, len(data.iloc[0, :4]) + 1))\n",
        "    target_data = np.empty((num_rows * (len(data.columns) - window_size + 1), predict_size))\n",
        "\n",
        "    for i in tqdm(range(num_rows)):\n",
        "        encode_info = np.array(data.iloc[i, :4])\n",
        "        sales_data = np.array(data.iloc[i, 4:])\n",
        "\n",
        "        for j in range(len(sales_data) - window_size + 1):\n",
        "            window = sales_data[j : j + window_size]\n",
        "            temp_data = np.column_stack((np.tile(encode_info, (train_size, 1)), window[:train_size]))\n",
        "            input_data[i * (len(data.columns) - window_size + 1) + j] = temp_data\n",
        "            target_data[i * (len(data.columns) - window_size + 1) + j] = window[train_size:]\n",
        "\n",
        "    return input_data, target_data"
      ]
    },
    {
      "cell_type": "code",
      "execution_count": null,
      "id": "9bf39b0f-64f4-4126-9a3d-da5de9f624d5",
      "metadata": {
        "id": "9bf39b0f-64f4-4126-9a3d-da5de9f624d5"
      },
      "outputs": [],
      "source": [
        "def make_predict_data(data, train_size=CFG['TRAIN_WINDOW_SIZE']):\n",
        "    '''\n",
        "    평가 데이터(Test Dataset)를 추론하기 위한 Input 데이터를 생성\n",
        "    data : 일별 판매량\n",
        "    train_size : 추론을 위해 필요한 일별 판매량 기간 (= 학습에 활용할 기간)\n",
        "    '''\n",
        "    num_rows = len(data)\n",
        "\n",
        "    input_data = np.empty((num_rows, train_size, len(data.iloc[0, :4]) + 1))\n",
        "\n",
        "    for i in tqdm(range(num_rows)):\n",
        "        encode_info = np.array(data.iloc[i, :4])\n",
        "        sales_data = np.array(data.iloc[i, -train_size:])\n",
        "\n",
        "        window = sales_data[-train_size : ]\n",
        "        temp_data = np.column_stack((np.tile(encode_info, (train_size, 1)), window[:train_size]))\n",
        "        input_data[i] = temp_data\n",
        "\n",
        "    return input_data"
      ]
    },
    {
      "cell_type": "code",
      "execution_count": null,
      "id": "3c203f18-dfe9-430a-8082-f1143267b296",
      "metadata": {
        "colab": {
          "referenced_widgets": [
            "2e97b751e6a34f3a9d26c0daa9046547",
            "a5820d1674824fe6a2428cdb9b7a4599"
          ]
        },
        "id": "3c203f18-dfe9-430a-8082-f1143267b296",
        "outputId": "2f5defd3-6231-42c7-b2a4-5c02025da1dc"
      },
      "outputs": [
        {
          "data": {
            "application/vnd.jupyter.widget-view+json": {
              "model_id": "2e97b751e6a34f3a9d26c0daa9046547",
              "version_major": 2,
              "version_minor": 0
            },
            "text/plain": [
              "  0%|          | 0/15890 [00:00<?, ?it/s]"
            ]
          },
          "metadata": {},
          "output_type": "display_data"
        },
        {
          "data": {
            "application/vnd.jupyter.widget-view+json": {
              "model_id": "a5820d1674824fe6a2428cdb9b7a4599",
              "version_major": 2,
              "version_minor": 0
            },
            "text/plain": [
              "  0%|          | 0/15890 [00:00<?, ?it/s]"
            ]
          },
          "metadata": {},
          "output_type": "display_data"
        }
      ],
      "source": [
        "train_input, train_target = make_train_data(train_data)\n",
        "test_input = make_predict_data(train_data)"
      ]
    },
    {
      "cell_type": "code",
      "execution_count": null,
      "id": "3c710abd-1be0-4926-803f-c732d7bffdb5",
      "metadata": {
        "id": "3c710abd-1be0-4926-803f-c732d7bffdb5"
      },
      "outputs": [],
      "source": [
        "# Train / Validation Split\n",
        "data_len = len(train_input)\n",
        "val_input = train_input[-int(data_len*0.2):]\n",
        "val_target = train_target[-int(data_len*0.2):]\n",
        "train_input = train_input[:-int(data_len*0.2)]\n",
        "train_target = train_target[:-int(data_len*0.2)]"
      ]
    },
    {
      "cell_type": "code",
      "execution_count": null,
      "id": "3be176ad-ccc8-425c-9627-f583c0647489",
      "metadata": {
        "id": "3be176ad-ccc8-425c-9627-f583c0647489",
        "outputId": "455edbdc-eb8a-4ef8-8b16-4123ab5c38da"
      },
      "outputs": [
        {
          "data": {
            "text/plain": [
              "((4487336, 90, 5),\n",
              " (4487336, 21),\n",
              " (1121834, 90, 5),\n",
              " (1121834, 21),\n",
              " (15890, 90, 5))"
            ]
          },
          "execution_count": 12,
          "metadata": {},
          "output_type": "execute_result"
        }
      ],
      "source": [
        "train_input.shape, train_target.shape, val_input.shape, val_target.shape, test_input.shape"
      ]
    },
    {
      "cell_type": "markdown",
      "id": "3b2f3d76-fcf4-4866-a578-6bb76783bbed",
      "metadata": {
        "id": "3b2f3d76-fcf4-4866-a578-6bb76783bbed"
      },
      "source": [
        "### Custom Dataset"
      ]
    },
    {
      "cell_type": "code",
      "execution_count": null,
      "id": "4ec0a970-4d99-486d-b9b5-210f3cdca353",
      "metadata": {
        "id": "4ec0a970-4d99-486d-b9b5-210f3cdca353"
      },
      "outputs": [],
      "source": [
        "class CustomDataset(Dataset):\n",
        "    def __init__(self, X, Y):\n",
        "        self.X = X\n",
        "        self.Y = Y\n",
        "\n",
        "    def __getitem__(self, index):\n",
        "        if self.Y is not None:\n",
        "            return torch.Tensor(self.X[index]), torch.Tensor(self.Y[index])\n",
        "        return torch.Tensor(self.X[index])\n",
        "\n",
        "    def __len__(self):\n",
        "        return len(self.X)"
      ]
    },
    {
      "cell_type": "code",
      "execution_count": null,
      "id": "3614347b-da14-466f-9d04-b81e5448a9bd",
      "metadata": {
        "id": "3614347b-da14-466f-9d04-b81e5448a9bd"
      },
      "outputs": [],
      "source": [
        "train_dataset = CustomDataset(train_input, train_target)\n",
        "train_loader = DataLoader(train_dataset, batch_size = CFG['BATCH_SIZE'], shuffle=True, num_workers=0)\n",
        "\n",
        "val_dataset = CustomDataset(val_input, val_target)\n",
        "val_loader = DataLoader(val_dataset, batch_size = CFG['BATCH_SIZE'], shuffle=False, num_workers=0)"
      ]
    },
    {
      "cell_type": "markdown",
      "id": "c63f0b66-817d-49ff-9163-a975fb0f239d",
      "metadata": {
        "id": "c63f0b66-817d-49ff-9163-a975fb0f239d"
      },
      "source": [
        "### 모델 선언"
      ]
    },
    {
      "cell_type": "code",
      "execution_count": null,
      "id": "7927d7ef-e6dd-4ac4-8b89-e3a216c37e5a",
      "metadata": {
        "id": "7927d7ef-e6dd-4ac4-8b89-e3a216c37e5a"
      },
      "outputs": [],
      "source": [
        "class BaseModel(nn.Module):\n",
        "    def __init__(self, input_size=5, hidden_size=1024, output_size=CFG['PREDICT_SIZE']):\n",
        "        super(BaseModel, self).__init__()\n",
        "        self.hidden_size = hidden_size\n",
        "        self.lstm = nn.LSTM(input_size, hidden_size, batch_first=True)\n",
        "        self.fc = nn.Sequential(\n",
        "            nn.Linear(hidden_size, hidden_size//2),\n",
        "            nn.LeakyReLU(),\n",
        "            nn.Dropout(),\n",
        "            nn.Linear(hidden_size, hidden_size//4),\n",
        "            nn.LeakyReLU(),\n",
        "            nn.Dropout(),\n",
        "            nn.Linear(hidden_size//4, output_size)\n",
        "        )\n",
        "\n",
        "        self.actv = nn.LeakyReLU()\n",
        "\n",
        "    def forward(self, x):\n",
        "        # x shape: (B, TRAIN_WINDOW_SIZE, 5)\n",
        "        batch_size = x.size(0)\n",
        "        hidden = self.init_hidden(batch_size, x.device)\n",
        "\n",
        "        # LSTM layer\n",
        "        lstm_out, hidden = self.lstm(x, hidden)\n",
        "\n",
        "        # Only use the last output sequence\n",
        "        last_output = lstm_out[:, -1, :]\n",
        "\n",
        "        # Fully connected layer\n",
        "        output = self.actv(self.fc(last_output))\n",
        "\n",
        "        return output.squeeze(1)\n",
        "\n",
        "    def init_hidden(self, batch_size, device):\n",
        "        # Initialize hidden state and cell state\n",
        "        return (torch.zeros(1, batch_size, self.hidden_size, device=device),\n",
        "                torch.zeros(1, batch_size, self.hidden_size, device=device))"
      ]
    },
    {
      "cell_type": "markdown",
      "id": "b4f79f7d",
      "metadata": {
        "id": "b4f79f7d"
      },
      "source": [
        "### 모델 학습"
      ]
    },
    {
      "cell_type": "code",
      "execution_count": null,
      "id": "ff73d757-32d5-4868-afbb-1b9f2ea13826",
      "metadata": {
        "id": "ff73d757-32d5-4868-afbb-1b9f2ea13826"
      },
      "outputs": [],
      "source": [
        "def train(model, optimizer, train_loader, val_loader, device):\n",
        "    model.to(device)\n",
        "    criterion = nn.MSELoss().to(device)\n",
        "    best_loss = 9999999\n",
        "    best_model = None\n",
        "\n",
        "    for epoch in range(1, CFG['EPOCHS']+1):\n",
        "        model.train()\n",
        "        train_loss = []\n",
        "        train_mae = []\n",
        "        for X, Y in tqdm(iter(train_loader)):\n",
        "            X = X.to(device)\n",
        "            Y = Y.to(device)\n",
        "\n",
        "            optimizer.zero_grad()\n",
        "\n",
        "            output = model(X)\n",
        "            loss = criterion(output, Y)\n",
        "\n",
        "            loss.backward()\n",
        "            optimizer.step()\n",
        "\n",
        "            train_loss.append(loss.item())\n",
        "\n",
        "        val_loss = validation(model, val_loader, criterion, device)\n",
        "        print(f'Epoch : [{epoch}] Train Loss : [{np.mean(train_loss):.5f}] Val Loss : [{val_loss:.5f}]')\n",
        "\n",
        "        if best_loss > val_loss:\n",
        "            best_loss = val_loss\n",
        "            best_model = model\n",
        "            print('Model Saved')\n",
        "    return best_model"
      ]
    },
    {
      "cell_type": "code",
      "execution_count": null,
      "id": "bbe1802a-35ff-4b43-a1a8-16c8079baf68",
      "metadata": {
        "id": "bbe1802a-35ff-4b43-a1a8-16c8079baf68"
      },
      "outputs": [],
      "source": [
        "def validation(model, val_loader, criterion, device):\n",
        "    model.eval()\n",
        "    val_loss = []\n",
        "\n",
        "    with torch.no_grad():\n",
        "        for X, Y in tqdm(iter(val_loader)):\n",
        "            X = X.to(device)\n",
        "            Y = Y.to(device)\n",
        "\n",
        "            output = model(X)\n",
        "            loss = criterion(output, Y)\n",
        "\n",
        "            val_loss.append(loss.item())\n",
        "    return np.mean(val_loss)"
      ]
    },
    {
      "cell_type": "markdown",
      "id": "1c83fa73-30d5-489c-852b-d655f76a200c",
      "metadata": {
        "id": "1c83fa73-30d5-489c-852b-d655f76a200c"
      },
      "source": [
        "## Run !!"
      ]
    },
    {
      "cell_type": "code",
      "execution_count": null,
      "id": "a1570b00-a309-4e5e-b53d-5848ba53eb19",
      "metadata": {
        "colab": {
          "referenced_widgets": [
            "ff004c020394476e96b4078b4c8dfba6",
            "e807f8ba862e40118d95813ac2119879",
            "69ad6191f464463f9ba2b4066e8d6199",
            "5a316e5392154bb38d5ced030945dc31",
            "8367cba0643b4c42b21de6f051254320",
            "b31f9a0e1d5f434994b762a3361da9f8",
            "a0a4a44098d54059b0b9c4004363cb48",
            "081a73b97bf44a1cb422dd3a880ea35e",
            "b5a728768fa841c192d06c01d08188b9",
            "5556aaba47b54de5a5d5d796b14e9516",
            "d4b39389426f4b69977afc52b0fe4f54",
            "0e3f91a110e749b6a7b91d25f1452d56",
            "dc65dfef7ea54009a97b0064f0bb3fea",
            "9c6b5208593c4201865a69be9abfbbd4",
            "f47bc68de4bf4244b42bfca21e1b996b",
            "9fb8041ae344475a9402bb5ccbf00ed7",
            "e736899a77074d209a406628c5e8a74f",
            "2f0f94604bf643c39b15c4dc152c5e97",
            "5d4c4344e4f34e8080a5d96e6aaf0796",
            "9adb534f81b94828bfafa8a4ab2dff8c"
          ]
        },
        "id": "a1570b00-a309-4e5e-b53d-5848ba53eb19",
        "outputId": "62131190-e88c-4c5c-97f1-616c9e270341"
      },
      "outputs": [
        {
          "data": {
            "application/vnd.jupyter.widget-view+json": {
              "model_id": "ff004c020394476e96b4078b4c8dfba6",
              "version_major": 2,
              "version_minor": 0
            },
            "text/plain": [
              "  0%|          | 0/1096 [00:00<?, ?it/s]"
            ]
          },
          "metadata": {},
          "output_type": "display_data"
        },
        {
          "data": {
            "application/vnd.jupyter.widget-view+json": {
              "model_id": "e807f8ba862e40118d95813ac2119879",
              "version_major": 2,
              "version_minor": 0
            },
            "text/plain": [
              "  0%|          | 0/274 [00:00<?, ?it/s]"
            ]
          },
          "metadata": {},
          "output_type": "display_data"
        },
        {
          "name": "stdout",
          "output_type": "stream",
          "text": [
            "Epoch : [1] Train Loss : [0.02957] Val Loss : [0.03088]\n",
            "Model Saved\n"
          ]
        },
        {
          "data": {
            "application/vnd.jupyter.widget-view+json": {
              "model_id": "69ad6191f464463f9ba2b4066e8d6199",
              "version_major": 2,
              "version_minor": 0
            },
            "text/plain": [
              "  0%|          | 0/1096 [00:00<?, ?it/s]"
            ]
          },
          "metadata": {},
          "output_type": "display_data"
        },
        {
          "data": {
            "application/vnd.jupyter.widget-view+json": {
              "model_id": "5a316e5392154bb38d5ced030945dc31",
              "version_major": 2,
              "version_minor": 0
            },
            "text/plain": [
              "  0%|          | 0/274 [00:00<?, ?it/s]"
            ]
          },
          "metadata": {},
          "output_type": "display_data"
        },
        {
          "name": "stdout",
          "output_type": "stream",
          "text": [
            "Epoch : [2] Train Loss : [0.02797] Val Loss : [0.03043]\n",
            "Model Saved\n"
          ]
        },
        {
          "data": {
            "application/vnd.jupyter.widget-view+json": {
              "model_id": "8367cba0643b4c42b21de6f051254320",
              "version_major": 2,
              "version_minor": 0
            },
            "text/plain": [
              "  0%|          | 0/1096 [00:00<?, ?it/s]"
            ]
          },
          "metadata": {},
          "output_type": "display_data"
        },
        {
          "data": {
            "application/vnd.jupyter.widget-view+json": {
              "model_id": "b31f9a0e1d5f434994b762a3361da9f8",
              "version_major": 2,
              "version_minor": 0
            },
            "text/plain": [
              "  0%|          | 0/274 [00:00<?, ?it/s]"
            ]
          },
          "metadata": {},
          "output_type": "display_data"
        },
        {
          "name": "stdout",
          "output_type": "stream",
          "text": [
            "Epoch : [3] Train Loss : [0.02553] Val Loss : [0.02344]\n",
            "Model Saved\n"
          ]
        },
        {
          "data": {
            "application/vnd.jupyter.widget-view+json": {
              "model_id": "a0a4a44098d54059b0b9c4004363cb48",
              "version_major": 2,
              "version_minor": 0
            },
            "text/plain": [
              "  0%|          | 0/1096 [00:00<?, ?it/s]"
            ]
          },
          "metadata": {},
          "output_type": "display_data"
        },
        {
          "data": {
            "application/vnd.jupyter.widget-view+json": {
              "model_id": "081a73b97bf44a1cb422dd3a880ea35e",
              "version_major": 2,
              "version_minor": 0
            },
            "text/plain": [
              "  0%|          | 0/274 [00:00<?, ?it/s]"
            ]
          },
          "metadata": {},
          "output_type": "display_data"
        },
        {
          "name": "stdout",
          "output_type": "stream",
          "text": [
            "Epoch : [4] Train Loss : [0.01961] Val Loss : [0.01893]\n",
            "Model Saved\n"
          ]
        },
        {
          "data": {
            "application/vnd.jupyter.widget-view+json": {
              "model_id": "b5a728768fa841c192d06c01d08188b9",
              "version_major": 2,
              "version_minor": 0
            },
            "text/plain": [
              "  0%|          | 0/1096 [00:00<?, ?it/s]"
            ]
          },
          "metadata": {},
          "output_type": "display_data"
        },
        {
          "data": {
            "application/vnd.jupyter.widget-view+json": {
              "model_id": "5556aaba47b54de5a5d5d796b14e9516",
              "version_major": 2,
              "version_minor": 0
            },
            "text/plain": [
              "  0%|          | 0/274 [00:00<?, ?it/s]"
            ]
          },
          "metadata": {},
          "output_type": "display_data"
        },
        {
          "name": "stdout",
          "output_type": "stream",
          "text": [
            "Epoch : [5] Train Loss : [0.01887] Val Loss : [0.03241]\n"
          ]
        },
        {
          "data": {
            "application/vnd.jupyter.widget-view+json": {
              "model_id": "d4b39389426f4b69977afc52b0fe4f54",
              "version_major": 2,
              "version_minor": 0
            },
            "text/plain": [
              "  0%|          | 0/1096 [00:00<?, ?it/s]"
            ]
          },
          "metadata": {},
          "output_type": "display_data"
        },
        {
          "data": {
            "application/vnd.jupyter.widget-view+json": {
              "model_id": "0e3f91a110e749b6a7b91d25f1452d56",
              "version_major": 2,
              "version_minor": 0
            },
            "text/plain": [
              "  0%|          | 0/274 [00:00<?, ?it/s]"
            ]
          },
          "metadata": {},
          "output_type": "display_data"
        },
        {
          "name": "stdout",
          "output_type": "stream",
          "text": [
            "Epoch : [6] Train Loss : [0.01872] Val Loss : [0.01819]\n",
            "Model Saved\n"
          ]
        },
        {
          "data": {
            "application/vnd.jupyter.widget-view+json": {
              "model_id": "dc65dfef7ea54009a97b0064f0bb3fea",
              "version_major": 2,
              "version_minor": 0
            },
            "text/plain": [
              "  0%|          | 0/1096 [00:00<?, ?it/s]"
            ]
          },
          "metadata": {},
          "output_type": "display_data"
        },
        {
          "data": {
            "application/vnd.jupyter.widget-view+json": {
              "model_id": "9c6b5208593c4201865a69be9abfbbd4",
              "version_major": 2,
              "version_minor": 0
            },
            "text/plain": [
              "  0%|          | 0/274 [00:00<?, ?it/s]"
            ]
          },
          "metadata": {},
          "output_type": "display_data"
        },
        {
          "name": "stdout",
          "output_type": "stream",
          "text": [
            "Epoch : [7] Train Loss : [0.01839] Val Loss : [0.01797]\n",
            "Model Saved\n"
          ]
        },
        {
          "data": {
            "application/vnd.jupyter.widget-view+json": {
              "model_id": "f47bc68de4bf4244b42bfca21e1b996b",
              "version_major": 2,
              "version_minor": 0
            },
            "text/plain": [
              "  0%|          | 0/1096 [00:00<?, ?it/s]"
            ]
          },
          "metadata": {},
          "output_type": "display_data"
        },
        {
          "data": {
            "application/vnd.jupyter.widget-view+json": {
              "model_id": "9fb8041ae344475a9402bb5ccbf00ed7",
              "version_major": 2,
              "version_minor": 0
            },
            "text/plain": [
              "  0%|          | 0/274 [00:00<?, ?it/s]"
            ]
          },
          "metadata": {},
          "output_type": "display_data"
        },
        {
          "name": "stdout",
          "output_type": "stream",
          "text": [
            "Epoch : [8] Train Loss : [0.01829] Val Loss : [0.01865]\n"
          ]
        },
        {
          "data": {
            "application/vnd.jupyter.widget-view+json": {
              "model_id": "e736899a77074d209a406628c5e8a74f",
              "version_major": 2,
              "version_minor": 0
            },
            "text/plain": [
              "  0%|          | 0/1096 [00:00<?, ?it/s]"
            ]
          },
          "metadata": {},
          "output_type": "display_data"
        },
        {
          "data": {
            "application/vnd.jupyter.widget-view+json": {
              "model_id": "2f0f94604bf643c39b15c4dc152c5e97",
              "version_major": 2,
              "version_minor": 0
            },
            "text/plain": [
              "  0%|          | 0/274 [00:00<?, ?it/s]"
            ]
          },
          "metadata": {},
          "output_type": "display_data"
        },
        {
          "name": "stdout",
          "output_type": "stream",
          "text": [
            "Epoch : [9] Train Loss : [0.01818] Val Loss : [0.01763]\n",
            "Model Saved\n"
          ]
        },
        {
          "data": {
            "application/vnd.jupyter.widget-view+json": {
              "model_id": "5d4c4344e4f34e8080a5d96e6aaf0796",
              "version_major": 2,
              "version_minor": 0
            },
            "text/plain": [
              "  0%|          | 0/1096 [00:00<?, ?it/s]"
            ]
          },
          "metadata": {},
          "output_type": "display_data"
        },
        {
          "data": {
            "application/vnd.jupyter.widget-view+json": {
              "model_id": "9adb534f81b94828bfafa8a4ab2dff8c",
              "version_major": 2,
              "version_minor": 0
            },
            "text/plain": [
              "  0%|          | 0/274 [00:00<?, ?it/s]"
            ]
          },
          "metadata": {},
          "output_type": "display_data"
        },
        {
          "name": "stdout",
          "output_type": "stream",
          "text": [
            "Epoch : [10] Train Loss : [0.01815] Val Loss : [0.01751]\n",
            "Model Saved\n"
          ]
        }
      ],
      "source": [
        "model = BaseModel()\n",
        "optimizer = torch.optim.Adam(params = model.parameters(), lr = CFG[\"LEARNING_RATE\"])\n",
        "infer_model = train(model, optimizer, train_loader, val_loader, device)"
      ]
    },
    {
      "cell_type": "markdown",
      "id": "36b20af7-f5b1-4a7a-8eb9-7dde5bbf3d04",
      "metadata": {
        "id": "36b20af7-f5b1-4a7a-8eb9-7dde5bbf3d04"
      },
      "source": [
        "## 모델 추론"
      ]
    },
    {
      "cell_type": "code",
      "execution_count": null,
      "id": "b01d7ca0-899e-4515-a43e-890549f8f3c7",
      "metadata": {
        "id": "b01d7ca0-899e-4515-a43e-890549f8f3c7"
      },
      "outputs": [],
      "source": [
        "test_dataset = CustomDataset(test_input, None)\n",
        "test_loader = DataLoader(test_dataset, batch_size = CFG['BATCH_SIZE'], shuffle=False, num_workers=0)"
      ]
    },
    {
      "cell_type": "code",
      "execution_count": null,
      "id": "214f30d4-2b19-479f-89b7-bf5bb2adc111",
      "metadata": {
        "id": "214f30d4-2b19-479f-89b7-bf5bb2adc111"
      },
      "outputs": [],
      "source": [
        "def inference(model, test_loader, device):\n",
        "    predictions = []\n",
        "\n",
        "    with torch.no_grad():\n",
        "        for X in tqdm(iter(test_loader)):\n",
        "            X = X.to(device)\n",
        "\n",
        "            output = model(X)\n",
        "\n",
        "            # 모델 출력인 output을 CPU로 이동하고 numpy 배열로 변환\n",
        "            output = output.cpu().numpy()\n",
        "\n",
        "            predictions.extend(output)\n",
        "\n",
        "    return np.array(predictions)"
      ]
    },
    {
      "cell_type": "code",
      "execution_count": null,
      "id": "6b76e053-6fd2-44a7-8631-d903e7ffa292",
      "metadata": {
        "colab": {
          "referenced_widgets": [
            "74c1adc8465b48a2a70068b90fe2f6a7"
          ]
        },
        "id": "6b76e053-6fd2-44a7-8631-d903e7ffa292",
        "outputId": "f7cdaa13-f731-40dd-c414-c2e4f0e11d12"
      },
      "outputs": [
        {
          "data": {
            "application/vnd.jupyter.widget-view+json": {
              "model_id": "74c1adc8465b48a2a70068b90fe2f6a7",
              "version_major": 2,
              "version_minor": 0
            },
            "text/plain": [
              "  0%|          | 0/4 [00:00<?, ?it/s]"
            ]
          },
          "metadata": {},
          "output_type": "display_data"
        }
      ],
      "source": [
        "pred = inference(infer_model, test_loader, device)"
      ]
    },
    {
      "cell_type": "code",
      "execution_count": null,
      "id": "517978aa-445a-4ece-9217-432682f71230",
      "metadata": {
        "id": "517978aa-445a-4ece-9217-432682f71230"
      },
      "outputs": [],
      "source": [
        "# 추론 결과를 inverse scaling\n",
        "for idx in range(len(pred)):\n",
        "    pred[idx, :] = pred[idx, :] * (scale_max_dict[idx] - scale_min_dict[idx]) + scale_min_dict[idx]\n",
        "\n",
        "# 결과 후처리\n",
        "pred = np.round(pred, 0).astype(int)"
      ]
    },
    {
      "cell_type": "code",
      "execution_count": null,
      "id": "c90fa77e-fd03-4539-98fe-563fe2a25121",
      "metadata": {
        "id": "c90fa77e-fd03-4539-98fe-563fe2a25121",
        "outputId": "384f7f07-4517-4f3c-83da-e564fb7d60d5"
      },
      "outputs": [
        {
          "data": {
            "text/plain": [
              "(15890, 21)"
            ]
          },
          "execution_count": 23,
          "metadata": {},
          "output_type": "execute_result"
        }
      ],
      "source": [
        "pred.shape"
      ]
    },
    {
      "cell_type": "markdown",
      "id": "a48b50eb-d2d8-4c2d-a5e7-9607220fd794",
      "metadata": {
        "id": "a48b50eb-d2d8-4c2d-a5e7-9607220fd794"
      },
      "source": [
        "## Submission"
      ]
    },
    {
      "cell_type": "code",
      "execution_count": null,
      "id": "b78c84bb-5dbe-4fb3-aff0-7e229ae29a8d",
      "metadata": {
        "id": "b78c84bb-5dbe-4fb3-aff0-7e229ae29a8d",
        "outputId": "4ea3ecdf-8a19-4602-e11e-cba65888fc1b"
      },
      "outputs": [
        {
          "data": {
            "text/html": [
              "<div>\n",
              "<style scoped>\n",
              "    .dataframe tbody tr th:only-of-type {\n",
              "        vertical-align: middle;\n",
              "    }\n",
              "\n",
              "    .dataframe tbody tr th {\n",
              "        vertical-align: top;\n",
              "    }\n",
              "\n",
              "    .dataframe thead th {\n",
              "        text-align: right;\n",
              "    }\n",
              "</style>\n",
              "<table border=\"1\" class=\"dataframe\">\n",
              "  <thead>\n",
              "    <tr style=\"text-align: right;\">\n",
              "      <th></th>\n",
              "      <th>ID</th>\n",
              "      <th>2023-04-05</th>\n",
              "      <th>2023-04-06</th>\n",
              "      <th>2023-04-07</th>\n",
              "      <th>2023-04-08</th>\n",
              "      <th>2023-04-09</th>\n",
              "      <th>2023-04-10</th>\n",
              "      <th>2023-04-11</th>\n",
              "      <th>2023-04-12</th>\n",
              "      <th>2023-04-13</th>\n",
              "      <th>...</th>\n",
              "      <th>2023-04-16</th>\n",
              "      <th>2023-04-17</th>\n",
              "      <th>2023-04-18</th>\n",
              "      <th>2023-04-19</th>\n",
              "      <th>2023-04-20</th>\n",
              "      <th>2023-04-21</th>\n",
              "      <th>2023-04-22</th>\n",
              "      <th>2023-04-23</th>\n",
              "      <th>2023-04-24</th>\n",
              "      <th>2023-04-25</th>\n",
              "    </tr>\n",
              "  </thead>\n",
              "  <tbody>\n",
              "    <tr>\n",
              "      <th>0</th>\n",
              "      <td>0</td>\n",
              "      <td>0</td>\n",
              "      <td>0</td>\n",
              "      <td>0</td>\n",
              "      <td>0</td>\n",
              "      <td>0</td>\n",
              "      <td>0</td>\n",
              "      <td>0</td>\n",
              "      <td>0</td>\n",
              "      <td>0</td>\n",
              "      <td>...</td>\n",
              "      <td>0</td>\n",
              "      <td>0</td>\n",
              "      <td>0</td>\n",
              "      <td>0</td>\n",
              "      <td>0</td>\n",
              "      <td>0</td>\n",
              "      <td>0</td>\n",
              "      <td>0</td>\n",
              "      <td>0</td>\n",
              "      <td>0</td>\n",
              "    </tr>\n",
              "    <tr>\n",
              "      <th>1</th>\n",
              "      <td>1</td>\n",
              "      <td>0</td>\n",
              "      <td>0</td>\n",
              "      <td>0</td>\n",
              "      <td>0</td>\n",
              "      <td>0</td>\n",
              "      <td>0</td>\n",
              "      <td>0</td>\n",
              "      <td>0</td>\n",
              "      <td>0</td>\n",
              "      <td>...</td>\n",
              "      <td>0</td>\n",
              "      <td>0</td>\n",
              "      <td>0</td>\n",
              "      <td>0</td>\n",
              "      <td>0</td>\n",
              "      <td>0</td>\n",
              "      <td>0</td>\n",
              "      <td>0</td>\n",
              "      <td>0</td>\n",
              "      <td>0</td>\n",
              "    </tr>\n",
              "    <tr>\n",
              "      <th>2</th>\n",
              "      <td>2</td>\n",
              "      <td>0</td>\n",
              "      <td>0</td>\n",
              "      <td>0</td>\n",
              "      <td>0</td>\n",
              "      <td>0</td>\n",
              "      <td>0</td>\n",
              "      <td>0</td>\n",
              "      <td>0</td>\n",
              "      <td>0</td>\n",
              "      <td>...</td>\n",
              "      <td>0</td>\n",
              "      <td>0</td>\n",
              "      <td>0</td>\n",
              "      <td>0</td>\n",
              "      <td>0</td>\n",
              "      <td>0</td>\n",
              "      <td>0</td>\n",
              "      <td>0</td>\n",
              "      <td>0</td>\n",
              "      <td>0</td>\n",
              "    </tr>\n",
              "    <tr>\n",
              "      <th>3</th>\n",
              "      <td>3</td>\n",
              "      <td>0</td>\n",
              "      <td>0</td>\n",
              "      <td>0</td>\n",
              "      <td>0</td>\n",
              "      <td>0</td>\n",
              "      <td>0</td>\n",
              "      <td>0</td>\n",
              "      <td>0</td>\n",
              "      <td>0</td>\n",
              "      <td>...</td>\n",
              "      <td>0</td>\n",
              "      <td>0</td>\n",
              "      <td>0</td>\n",
              "      <td>0</td>\n",
              "      <td>0</td>\n",
              "      <td>0</td>\n",
              "      <td>0</td>\n",
              "      <td>0</td>\n",
              "      <td>0</td>\n",
              "      <td>0</td>\n",
              "    </tr>\n",
              "    <tr>\n",
              "      <th>4</th>\n",
              "      <td>4</td>\n",
              "      <td>0</td>\n",
              "      <td>0</td>\n",
              "      <td>0</td>\n",
              "      <td>0</td>\n",
              "      <td>0</td>\n",
              "      <td>0</td>\n",
              "      <td>0</td>\n",
              "      <td>0</td>\n",
              "      <td>0</td>\n",
              "      <td>...</td>\n",
              "      <td>0</td>\n",
              "      <td>0</td>\n",
              "      <td>0</td>\n",
              "      <td>0</td>\n",
              "      <td>0</td>\n",
              "      <td>0</td>\n",
              "      <td>0</td>\n",
              "      <td>0</td>\n",
              "      <td>0</td>\n",
              "      <td>0</td>\n",
              "    </tr>\n",
              "  </tbody>\n",
              "</table>\n",
              "<p>5 rows × 22 columns</p>\n",
              "</div>"
            ],
            "text/plain": [
              "   ID  2023-04-05  2023-04-06  2023-04-07  2023-04-08  2023-04-09  2023-04-10  \\\n",
              "0   0           0           0           0           0           0           0   \n",
              "1   1           0           0           0           0           0           0   \n",
              "2   2           0           0           0           0           0           0   \n",
              "3   3           0           0           0           0           0           0   \n",
              "4   4           0           0           0           0           0           0   \n",
              "\n",
              "   2023-04-11  2023-04-12  2023-04-13  ...  2023-04-16  2023-04-17  \\\n",
              "0           0           0           0  ...           0           0   \n",
              "1           0           0           0  ...           0           0   \n",
              "2           0           0           0  ...           0           0   \n",
              "3           0           0           0  ...           0           0   \n",
              "4           0           0           0  ...           0           0   \n",
              "\n",
              "   2023-04-18  2023-04-19  2023-04-20  2023-04-21  2023-04-22  2023-04-23  \\\n",
              "0           0           0           0           0           0           0   \n",
              "1           0           0           0           0           0           0   \n",
              "2           0           0           0           0           0           0   \n",
              "3           0           0           0           0           0           0   \n",
              "4           0           0           0           0           0           0   \n",
              "\n",
              "   2023-04-24  2023-04-25  \n",
              "0           0           0  \n",
              "1           0           0  \n",
              "2           0           0  \n",
              "3           0           0  \n",
              "4           0           0  \n",
              "\n",
              "[5 rows x 22 columns]"
            ]
          },
          "execution_count": 24,
          "metadata": {},
          "output_type": "execute_result"
        }
      ],
      "source": [
        "submit = pd.read_csv('./sample_submission.csv')\n",
        "submit.head()"
      ]
    },
    {
      "cell_type": "code",
      "execution_count": null,
      "id": "2db62d9c-b3ad-440a-8cc7-4897b2e4860f",
      "metadata": {
        "id": "2db62d9c-b3ad-440a-8cc7-4897b2e4860f",
        "outputId": "a9749320-c58e-4537-92e1-1951cf7a91ac"
      },
      "outputs": [
        {
          "data": {
            "text/html": [
              "<div>\n",
              "<style scoped>\n",
              "    .dataframe tbody tr th:only-of-type {\n",
              "        vertical-align: middle;\n",
              "    }\n",
              "\n",
              "    .dataframe tbody tr th {\n",
              "        vertical-align: top;\n",
              "    }\n",
              "\n",
              "    .dataframe thead th {\n",
              "        text-align: right;\n",
              "    }\n",
              "</style>\n",
              "<table border=\"1\" class=\"dataframe\">\n",
              "  <thead>\n",
              "    <tr style=\"text-align: right;\">\n",
              "      <th></th>\n",
              "      <th>ID</th>\n",
              "      <th>2023-04-05</th>\n",
              "      <th>2023-04-06</th>\n",
              "      <th>2023-04-07</th>\n",
              "      <th>2023-04-08</th>\n",
              "      <th>2023-04-09</th>\n",
              "      <th>2023-04-10</th>\n",
              "      <th>2023-04-11</th>\n",
              "      <th>2023-04-12</th>\n",
              "      <th>2023-04-13</th>\n",
              "      <th>...</th>\n",
              "      <th>2023-04-16</th>\n",
              "      <th>2023-04-17</th>\n",
              "      <th>2023-04-18</th>\n",
              "      <th>2023-04-19</th>\n",
              "      <th>2023-04-20</th>\n",
              "      <th>2023-04-21</th>\n",
              "      <th>2023-04-22</th>\n",
              "      <th>2023-04-23</th>\n",
              "      <th>2023-04-24</th>\n",
              "      <th>2023-04-25</th>\n",
              "    </tr>\n",
              "  </thead>\n",
              "  <tbody>\n",
              "    <tr>\n",
              "      <th>0</th>\n",
              "      <td>0</td>\n",
              "      <td>0</td>\n",
              "      <td>0</td>\n",
              "      <td>0</td>\n",
              "      <td>0</td>\n",
              "      <td>0</td>\n",
              "      <td>0</td>\n",
              "      <td>0</td>\n",
              "      <td>0</td>\n",
              "      <td>0</td>\n",
              "      <td>...</td>\n",
              "      <td>0</td>\n",
              "      <td>0</td>\n",
              "      <td>0</td>\n",
              "      <td>0</td>\n",
              "      <td>0</td>\n",
              "      <td>0</td>\n",
              "      <td>0</td>\n",
              "      <td>0</td>\n",
              "      <td>0</td>\n",
              "      <td>0</td>\n",
              "    </tr>\n",
              "    <tr>\n",
              "      <th>1</th>\n",
              "      <td>1</td>\n",
              "      <td>1</td>\n",
              "      <td>1</td>\n",
              "      <td>1</td>\n",
              "      <td>1</td>\n",
              "      <td>1</td>\n",
              "      <td>1</td>\n",
              "      <td>1</td>\n",
              "      <td>1</td>\n",
              "      <td>1</td>\n",
              "      <td>...</td>\n",
              "      <td>1</td>\n",
              "      <td>1</td>\n",
              "      <td>1</td>\n",
              "      <td>1</td>\n",
              "      <td>1</td>\n",
              "      <td>1</td>\n",
              "      <td>1</td>\n",
              "      <td>1</td>\n",
              "      <td>1</td>\n",
              "      <td>1</td>\n",
              "    </tr>\n",
              "    <tr>\n",
              "      <th>2</th>\n",
              "      <td>2</td>\n",
              "      <td>0</td>\n",
              "      <td>0</td>\n",
              "      <td>0</td>\n",
              "      <td>0</td>\n",
              "      <td>0</td>\n",
              "      <td>0</td>\n",
              "      <td>0</td>\n",
              "      <td>0</td>\n",
              "      <td>0</td>\n",
              "      <td>...</td>\n",
              "      <td>0</td>\n",
              "      <td>0</td>\n",
              "      <td>0</td>\n",
              "      <td>0</td>\n",
              "      <td>0</td>\n",
              "      <td>0</td>\n",
              "      <td>0</td>\n",
              "      <td>0</td>\n",
              "      <td>0</td>\n",
              "      <td>0</td>\n",
              "    </tr>\n",
              "    <tr>\n",
              "      <th>3</th>\n",
              "      <td>3</td>\n",
              "      <td>0</td>\n",
              "      <td>0</td>\n",
              "      <td>0</td>\n",
              "      <td>0</td>\n",
              "      <td>0</td>\n",
              "      <td>0</td>\n",
              "      <td>0</td>\n",
              "      <td>0</td>\n",
              "      <td>0</td>\n",
              "      <td>...</td>\n",
              "      <td>0</td>\n",
              "      <td>0</td>\n",
              "      <td>0</td>\n",
              "      <td>0</td>\n",
              "      <td>0</td>\n",
              "      <td>0</td>\n",
              "      <td>0</td>\n",
              "      <td>0</td>\n",
              "      <td>0</td>\n",
              "      <td>0</td>\n",
              "    </tr>\n",
              "    <tr>\n",
              "      <th>4</th>\n",
              "      <td>4</td>\n",
              "      <td>0</td>\n",
              "      <td>0</td>\n",
              "      <td>0</td>\n",
              "      <td>0</td>\n",
              "      <td>0</td>\n",
              "      <td>0</td>\n",
              "      <td>0</td>\n",
              "      <td>0</td>\n",
              "      <td>0</td>\n",
              "      <td>...</td>\n",
              "      <td>0</td>\n",
              "      <td>0</td>\n",
              "      <td>0</td>\n",
              "      <td>0</td>\n",
              "      <td>0</td>\n",
              "      <td>0</td>\n",
              "      <td>0</td>\n",
              "      <td>0</td>\n",
              "      <td>0</td>\n",
              "      <td>0</td>\n",
              "    </tr>\n",
              "  </tbody>\n",
              "</table>\n",
              "<p>5 rows × 22 columns</p>\n",
              "</div>"
            ],
            "text/plain": [
              "   ID  2023-04-05  2023-04-06  2023-04-07  2023-04-08  2023-04-09  2023-04-10  \\\n",
              "0   0           0           0           0           0           0           0   \n",
              "1   1           1           1           1           1           1           1   \n",
              "2   2           0           0           0           0           0           0   \n",
              "3   3           0           0           0           0           0           0   \n",
              "4   4           0           0           0           0           0           0   \n",
              "\n",
              "   2023-04-11  2023-04-12  2023-04-13  ...  2023-04-16  2023-04-17  \\\n",
              "0           0           0           0  ...           0           0   \n",
              "1           1           1           1  ...           1           1   \n",
              "2           0           0           0  ...           0           0   \n",
              "3           0           0           0  ...           0           0   \n",
              "4           0           0           0  ...           0           0   \n",
              "\n",
              "   2023-04-18  2023-04-19  2023-04-20  2023-04-21  2023-04-22  2023-04-23  \\\n",
              "0           0           0           0           0           0           0   \n",
              "1           1           1           1           1           1           1   \n",
              "2           0           0           0           0           0           0   \n",
              "3           0           0           0           0           0           0   \n",
              "4           0           0           0           0           0           0   \n",
              "\n",
              "   2023-04-24  2023-04-25  \n",
              "0           0           0  \n",
              "1           1           1  \n",
              "2           0           0  \n",
              "3           0           0  \n",
              "4           0           0  \n",
              "\n",
              "[5 rows x 22 columns]"
            ]
          },
          "execution_count": 25,
          "metadata": {},
          "output_type": "execute_result"
        }
      ],
      "source": [
        "submit.iloc[:,1:] = pred\n",
        "submit.head()"
      ]
    },
    {
      "cell_type": "code",
      "execution_count": null,
      "id": "4142f749-f20f-4797-b586-581e5c778297",
      "metadata": {
        "id": "4142f749-f20f-4797-b586-581e5c778297"
      },
      "outputs": [],
      "source": [
        "submit.to_csv('./baseline_submit.csv', index=False)"
      ]
    }
  ],
  "metadata": {
    "kernelspec": {
      "display_name": "PyTorch 1.14 (NGC 22.12/Python 3.8) on Backend.AI",
      "language": "python",
      "name": "python3"
    },
    "language_info": {
      "codemirror_mode": {
        "name": "ipython",
        "version": 3
      },
      "file_extension": ".py",
      "mimetype": "text/x-python",
      "name": "python",
      "nbconvert_exporter": "python",
      "pygments_lexer": "ipython3",
      "version": "3.8.10"
    },
    "colab": {
      "provenance": []
    }
  },
  "nbformat": 4,
  "nbformat_minor": 5
}